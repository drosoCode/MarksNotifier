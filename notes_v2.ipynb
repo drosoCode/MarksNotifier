{
 "cells": [
  {
   "cell_type": "code",
   "execution_count": 2,
   "metadata": {},
   "outputs": [],
   "source": []
  },
  {
   "cell_type": "code",
   "execution_count": 3,
   "metadata": {},
   "outputs": [
    {
     "data": {
      "text/html": [
       ],
      "text/plain": [
       "<IPython.core.display.HTML object>"
      ]
     },
     "metadata": {},
     "output_type": "display_data"
    }
   ],
   "source": [
    "import requests\n",
    "import os\n",
    "from IPython.display import display, HTML\n",
    "\n",
    "he = {\n",
    "    \"Referer\": \"https://UNIV_URL/webgestion\",\n",
    "    \"Origin\": \"https://UNIV_URL/webgestion\"\n",
    "}\n",
    "# on recupere en premier l'id de l'utilisateur\n",
    "data = requests.post('https://UNIV_URL/webgestion/consultation.php', data={\"login\":auth[0],\"passwd\":auth[1],\"submit\":\"OK\"}, headers=he).text\n",
    "\n",
    "peID = data[data.find('idPers')+15:]\n",
    "peID = peID[0:peID.find('<')]\n",
    "\n",
    "# on demande le bulletin pour cet utilisateur\n",
    "html = requests.post('https://UNIV_URL/webgestion/consultation.php', data={\"login\":auth[0],\"passwd\":auth[1],\"submit\":\"S3 (9 / 2020)\", \"idPA\":\"31\", \"idPers\":peID}, headers=he).text\n",
    "\n",
    "pos = html.find('Détails du bulletin')\n",
    "notes = html[pos:]\n",
    "notes = notes[0:notes.find('</div>')]\n",
    "notes = notes.replace('Statistiques', '')\n",
    "\n",
    "i = notes.find('<img')\n",
    "while i != -1:\n",
    "    i = notes.find('<img')\n",
    "    iEnd = i+notes[i:].find('>')\n",
    "    if 'system-monitor' in notes[i:iEnd]:\n",
    "        iEnd += 8\n",
    "    notes = notes[0:i]+notes[iEnd:]\n",
    "\n",
    "display(HTML(notes))"
   ]
  }
 ],
 "metadata": {
  "kernelspec": {
   "display_name": "Python 3",
   "language": "python",
   "name": "python3"
  },
  "language_info": {
   "codemirror_mode": {
    "name": "ipython",
    "version": 3
   },
   "file_extension": ".py",
   "mimetype": "text/x-python",
   "name": "python",
   "nbconvert_exporter": "python",
   "pygments_lexer": "ipython3",
   "version": "3.6.9"
  }
 },
 "nbformat": 4,
 "nbformat_minor": 2
}
